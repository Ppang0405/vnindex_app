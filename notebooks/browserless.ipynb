{
 "cells": [
  {
   "cell_type": "code",
   "execution_count": 19,
   "id": "4ef392ab",
   "metadata": {},
   "outputs": [
    {
     "name": "stderr",
     "output_type": "stream",
     "text": [
      "/Volumes/KINGSTON/_kingston_misc/vnindex_app/.venv/lib/python3.13/site-packages/urllib3/connectionpool.py:1064: InsecureRequestWarning: Unverified HTTPS request is being made to host 'misc-browserless-88771d-154-53-56-68.traefik.me'. Adding certificate verification is strongly advised. See: https://urllib3.readthedocs.io/en/1.26.x/advanced-usage.html#ssl-warnings\n",
      "  warnings.warn(\n"
     ]
    },
    {
     "name": "stdout",
     "output_type": "stream",
     "text": [
      "404 page not found\n",
      "\n"
     ]
    }
   ],
   "source": [
    "import requests\n",
    "\n",
    "TOKEN = \"jfh3cz1utdspqwoe\"\n",
    "HOST = \"https://misc-browserless-88771d-154-53-56-68.traefik.me\"\n",
    "# TOKEN = \"2SrPUJxIm37aJBc5b59d7063dcacaff2d05b1ad6b035a141f\"\n",
    "# HOST = \"https://production-sfo.browserless.io\"\n",
    "url = f\"{HOST}/scrape?token={TOKEN}\"\n",
    "headers = {\"Cache-Control\": \"no-cache\", \"Content-Type\": \"application/json\"}\n",
    "\n",
    "data = {\n",
    "    \"url\": \"https://xpower.vixs.vn/priceboard\",\n",
    "    # \"options\": {\"fullPage\": True, \"type\": \"png\"}\n",
    "    \"elements\": [\n",
    "        {\n",
    "            \"selector\": \"#charts-wrapper > div > div > div:nth-child(1) > div.chart-info > div.chart-info-detail > span\"\n",
    "        }\n",
    "    ],\n",
    "    \"waitForTimeout\": 3000,  # 3 seconds\n",
    "}\n",
    "\n",
    "response = requests.post(url, headers=headers, json=data, verify=False)\n",
    "result = response.text\n",
    "\n",
    "print(result)"
   ]
  }
 ],
 "metadata": {
  "kernelspec": {
   "display_name": "vnindex_app (3.13.5)",
   "language": "python",
   "name": "python3"
  },
  "language_info": {
   "codemirror_mode": {
    "name": "ipython",
    "version": 3
   },
   "file_extension": ".py",
   "mimetype": "text/x-python",
   "name": "python",
   "nbconvert_exporter": "python",
   "pygments_lexer": "ipython3",
   "version": "3.13.5"
  }
 },
 "nbformat": 4,
 "nbformat_minor": 5
}
