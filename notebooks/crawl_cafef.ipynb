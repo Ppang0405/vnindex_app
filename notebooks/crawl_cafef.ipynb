{
 "cells": [
  {
   "cell_type": "code",
   "execution_count": null,
   "id": "0cfbadc6",
   "metadata": {},
   "outputs": [],
   "source": [
    "import os\n",
    "import time\n",
    "from datetime import datetime\n",
    "\n",
    "async def take_cafef_html_with_playwright():\n",
    "    \"\"\"\n",
    "    Use Playwright to get the HTML content of CafeF LiveBoard after JS renders all content.\n",
    "    \"\"\"\n",
    "    try:\n",
    "        from playwright.async_api import async_playwright\n",
    "        print(\"\ude80 Launching Playwright browser...\")\n",
    "        async with async_playwright() as p:\n",
    "            browser = await p.chromium.launch(headless=True)\n",
    "            page = await browser.new_page()\n",
    "            print(\"⏳ Navigating to CafeF LiveBoard...\")\n",
    "            await page.goto(\"https://liveboard.cafef.vn/\", wait_until=\"networkidle\")\n",
    "            # Wait extra for dynamic content\n",
    "            await page.wait_for_timeout(8000)\n",
    "            html_content = await page.content()\n",
    "            await browser.close()\n",
    "            print(\"✅ Got HTML content after JS render!\")\n",
    "            # Optionally save to file\n",
    "            timestamp = datetime.now().strftime(\"%Y%m%d_%H%M%S\")\n",
    "            filename = f\"cafef_liveboard_{timestamp}.html\"\n",
    "            with open(filename, \"w\", encoding=\"utf-8\") as f:\n",
    "                f.write(html_content)\n",
    "            print(f\"📁 HTML saved to {filename}\")\n",
    "            return html_content\n",
    "    except ImportError:\n",
    "        print(\"❌ Playwright not installed. Install with: pip install playwright && playwright install\")\n",
    "        return None\n",
    "    except Exception as e:\n",
    "        print(f\"❌ Playwright error: {e}\")\n",
    "        return None\n",
    "\n",
    "# Get the HTML content after JS render\n",
    "html_content = await take_cafef_html_with_playwright()\n",
    "\n",
    "if html_content:\n",
    "    print(\"\\n🎉 SUCCESS! HTML content retrieved and saved.\")\n",
    "else:\n",
    "    print(\"\\n💡 Make sure Playwright is installed and working.\")"
   ]
  }
 ],
 "metadata": {
  "kernelspec": {
   "display_name": "vnindex_app (3.13.5)",
   "language": "python",
   "name": "python3"
  },
  "language_info": {
   "codemirror_mode": {
    "name": "ipython",
    "version": 3
   },
   "file_extension": ".py",
   "mimetype": "text/x-python",
   "name": "python",
   "nbconvert_exporter": "python",
   "pygments_lexer": "ipython3",
   "version": "3.13.5"
  }
 },
 "nbformat": 4,
 "nbformat_minor": 5
}
